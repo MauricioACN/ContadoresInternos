{
 "cells": [
  {
   "cell_type": "code",
   "execution_count": 1,
   "id": "cb3af232",
   "metadata": {},
   "outputs": [],
   "source": [
    "class Contador:\n",
    "    \n",
    "    def __init__(self,medicion_inicial,apto,cuenta):\n",
    "        self.apto = apto\n",
    "        self.piso = self.apto[0]\n",
    "        self.cuenta = cuenta\n",
    "        self.medicion_inicial = medicion_inicial\n",
    "        self.fecha_registro_inicial = \"2021/11/08\"\n",
    "        self.fecha_registro = date.today().strftime(\"%Y/%m/%d\")\n",
    "    \n",
    "    def agregar_consumo(self,nuevo_consumo,valor_kwh,fecha_corte):\n",
    "        pass\n",
    "    \n",
    "    def ultimo_consumo(self):\n",
    "        pass\n",
    "    \n",
    "    def ajustar_diferencia(self,valor_consumo_real):\n",
    "        pass"
   ]
  },
  {
   "cell_type": "code",
   "execution_count": 4,
   "id": "dfe38331",
   "metadata": {},
   "outputs": [],
   "source": [
    "class Cargos_recibo_luz:\n",
    "    \n",
    "    def __init__(self,periodo_facturado,consumo_mes,valor_kwh,valor_diario,valor_a_subsidiar,total_aseo,total_servicio):\n",
    "        self.periodo_facturado_min,self.periodo_facturado_max = periodo_facturado\n",
    "        #self.mes = date.(self.periodo_facturado_max).strftime()\n",
    "        #self.dias_facturados = \n",
    "        self.consumo_mes = consumo_mes\n",
    "        self.valor_kwh = valor_kwh\n",
    "        self.consumo_diario = self.consumo_mes/self.dias_facturados\n",
    "        self.valor_diario = valor_diario\n",
    "        self.valor_a_subsidiar = valor_a_subsidiar\n",
    "        self.valor_a_pagar = (self.valor_kwh*self.consumo_mes)-self.valor_a_subsidiar\n",
    "        self.total_aseo = total_aseo\n",
    "        self.total_servicio = total_servicio\n",
    "        \n",
    "    def calcular(self):\n",
    "        pass\n"
   ]
  },
  {
   "cell_type": "code",
   "execution_count": 5,
   "id": "a6c28f5a",
   "metadata": {},
   "outputs": [],
   "source": [
    "from datetime import date\n",
    "piso3 = Contador(116.2,\"301\",\"7617615-4\")"
   ]
  },
  {
   "cell_type": "code",
   "execution_count": 6,
   "id": "f3ac3dfd",
   "metadata": {},
   "outputs": [
    {
     "data": {
      "text/plain": [
       "'2021/11/16'"
      ]
     },
     "execution_count": 6,
     "metadata": {},
     "output_type": "execute_result"
    }
   ],
   "source": [
    "piso3.fecha_registro"
   ]
  },
  {
   "cell_type": "code",
   "execution_count": null,
   "id": "d681460b",
   "metadata": {},
   "outputs": [],
   "source": []
  }
 ],
 "metadata": {
  "kernelspec": {
   "display_name": "Python 3",
   "language": "python",
   "name": "python3"
  },
  "language_info": {
   "codemirror_mode": {
    "name": "ipython",
    "version": 3
   },
   "file_extension": ".py",
   "mimetype": "text/x-python",
   "name": "python",
   "nbconvert_exporter": "python",
   "pygments_lexer": "ipython3",
   "version": "3.8.8"
  }
 },
 "nbformat": 4,
 "nbformat_minor": 5
}
